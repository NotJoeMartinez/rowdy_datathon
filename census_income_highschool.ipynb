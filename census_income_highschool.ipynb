{
 "cells": [
  {
   "cell_type": "code",
   "execution_count": null,
   "metadata": {},
   "outputs": [],
   "source": []
  },
  {
   "cell_type": "markdown",
   "id": "7389ee0c",
   "metadata": {},
   "source": [
    "The goal here is to determine if there is corilaiton between income \n",
    "predcitions based on census data and highschool academic preformance "
   ]
  },
  {
   "cell_type": "code",
   "execution_count": null,
   "id": "939c0141",
   "metadata": {},
   "outputs": [],
   "source": []
  },
  {
   "cell_type": "code",
   "execution_count": 13,
   "id": "40ea1325",
   "metadata": {},
   "outputs": [
    {
     "name": "stdout",
     "output_type": "stream",
     "text": [
      "4833120 48029191504 78592.0\n",
      "4808940 48453001751 77070.0\n",
      "4833120 48029191505 75121.0\n",
      "4808940 48453001604 73764.0\n",
      "4832940 48029191816 72578.0\n",
      "4814730 48029121908 72338.0\n",
      "4808940 48453001719 72141.0\n",
      "4838080 48453001755 71774.0\n",
      "4840110 48285000300 71759.0\n"
     ]
    }
   ],
   "source": [
    "import pandas as pd\n",
    "import matplotlib.pyplot as plt\n",
    "\n",
    "census_tract = \"data/GRF17/GRF17/csv/shown_tract_kfr_rP_gP_pall.csv\"\n",
    "\n",
    "census_df = pd.read_csv(census_tract, encoding=\"utf-8\")\n",
    "tract_to_leaid = pd.read_csv(\"data/GRF17/GRF17/csv/grf17_lea_tract.csv\", encoding=\"utf-8\")\n",
    "\n",
    "for row in census_df.iterrows():\n",
    "    tract = row[1][\"tract\"]\n",
    "    income = row[1][\"Household_Income_at_Age_35_rP_gP_pall\"]\n",
    "    \n",
    "    for j in tract_to_leaid.iterrows():\n",
    "        if j[1][\"TRACT\"] == tract:\n",
    "            leaid = j[1][\"LEAID\"]\n",
    "\n",
    "    print(leaid, tract, income)"
   ]
  },
  {
   "cell_type": "code",
   "execution_count": null,
   "id": "18ba1d0b",
   "metadata": {},
   "outputs": [],
   "source": []
  }
 ],
 "metadata": {
  "kernelspec": {
   "display_name": ".venv",
   "language": "python",
   "name": "python3"
  },
  "language_info": {
   "codemirror_mode": {
    "name": "ipython",
    "version": 3
   },
   "file_extension": ".py",
   "mimetype": "text/x-python",
   "name": "python",
   "nbconvert_exporter": "python",
   "pygments_lexer": "ipython3",
   "version": "3.11.5"
  }
 },
 "nbformat": 4,
 "nbformat_minor": 5
}
